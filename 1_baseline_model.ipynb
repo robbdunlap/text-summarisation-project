{
 "cells": [
  {
   "cell_type": "markdown",
   "id": "79bf4091",
   "metadata": {},
   "source": [
    "# Part 1 - Creating a baseline\n",
    "\n",
    "In this notebook we will create a simple yet important baseline so that we have an idea of how much our deep learning model improves the summaries. We use the ROUGE metric to measure the baseline."
   ]
  },
  {
   "cell_type": "code",
   "execution_count": 1,
   "id": "d81032d7",
   "metadata": {},
   "outputs": [],
   "source": [
    "import pandas as pd\n",
    "df_test = pd.read_csv('data/test.csv')"
   ]
  },
  {
   "cell_type": "code",
   "execution_count": 2,
   "id": "398191f6",
   "metadata": {},
   "outputs": [
    {
     "data": {
      "text/html": [
       "<div>\n",
       "<style scoped>\n",
       "    .dataframe tbody tr th:only-of-type {\n",
       "        vertical-align: middle;\n",
       "    }\n",
       "\n",
       "    .dataframe tbody tr th {\n",
       "        vertical-align: top;\n",
       "    }\n",
       "\n",
       "    .dataframe thead th {\n",
       "        text-align: right;\n",
       "    }\n",
       "</style>\n",
       "<table border=\"1\" class=\"dataframe\">\n",
       "  <thead>\n",
       "    <tr style=\"text-align: right;\">\n",
       "      <th></th>\n",
       "      <th>text</th>\n",
       "      <th>summary</th>\n",
       "    </tr>\n",
       "  </thead>\n",
       "  <tbody>\n",
       "    <tr>\n",
       "      <th>0</th>\n",
       "      <td>The coincidence of the set of all nilpotent ...</td>\n",
       "      <td>A relationship between 2-primal modules and mo...</td>\n",
       "    </tr>\n",
       "    <tr>\n",
       "      <th>1</th>\n",
       "      <td>The $k$ nearest neighbor ($k$NN) query is a ...</td>\n",
       "      <td>Eclipse: Practicability Beyond kNN and Skyline</td>\n",
       "    </tr>\n",
       "    <tr>\n",
       "      <th>2</th>\n",
       "      <td>For a real number $x$ and set of natural num...</td>\n",
       "      <td>Representing Ordinal Numbers with Arithmetical...</td>\n",
       "    </tr>\n",
       "    <tr>\n",
       "      <th>3</th>\n",
       "      <td>We classify all positive integers n and r su...</td>\n",
       "      <td>On the rationality problem for quadric bundles</td>\n",
       "    </tr>\n",
       "    <tr>\n",
       "      <th>4</th>\n",
       "      <td>Plasmonic nanoparticles influence the absorp...</td>\n",
       "      <td>Plasmonic nanoprobes for stimulated emission d...</td>\n",
       "    </tr>\n",
       "  </tbody>\n",
       "</table>\n",
       "</div>"
      ],
      "text/plain": [
       "                                                text  \\\n",
       "0    The coincidence of the set of all nilpotent ...   \n",
       "1    The $k$ nearest neighbor ($k$NN) query is a ...   \n",
       "2    For a real number $x$ and set of natural num...   \n",
       "3    We classify all positive integers n and r su...   \n",
       "4    Plasmonic nanoparticles influence the absorp...   \n",
       "\n",
       "                                             summary  \n",
       "0  A relationship between 2-primal modules and mo...  \n",
       "1     Eclipse: Practicability Beyond kNN and Skyline  \n",
       "2  Representing Ordinal Numbers with Arithmetical...  \n",
       "3     On the rationality problem for quadric bundles  \n",
       "4  Plasmonic nanoprobes for stimulated emission d...  "
      ]
     },
     "execution_count": 2,
     "metadata": {},
     "output_type": "execute_result"
    }
   ],
   "source": [
    "df_test.head()"
   ]
  },
  {
   "cell_type": "code",
   "execution_count": 3,
   "id": "f2c1420f",
   "metadata": {},
   "outputs": [
    {
     "name": "stderr",
     "output_type": "stream",
     "text": [
      "Downloading: 5.61kB [00:00, 1.52MB/s]                   \n"
     ]
    }
   ],
   "source": [
    "from datasets import load_metric\n",
    "metric = load_metric(\"rouge\")"
   ]
  },
  {
   "cell_type": "markdown",
   "id": "d2f041a1",
   "metadata": {},
   "source": [
    "We're copying this function from https://github.com/huggingface/transformers/blob/v4.6.1/examples/pytorch/summarization/run_summarization.py to ensure we always use the same metric calculation."
   ]
  },
  {
   "cell_type": "code",
   "execution_count": 4,
   "id": "772929b8",
   "metadata": {},
   "outputs": [],
   "source": [
    "def calc_rouge_scores(candidates, references):\n",
    "    result = metric.compute(predictions=candidates, references=references, use_stemmer=True)\n",
    "    result = {key: round(value.mid.fmeasure * 100, 1) for key, value in result.items()}\n",
    "    return result"
   ]
  },
  {
   "cell_type": "markdown",
   "id": "dfce5638",
   "metadata": {},
   "source": [
    "The summaries from the test dataset are the references"
   ]
  },
  {
   "cell_type": "code",
   "execution_count": 5,
   "id": "636a118e",
   "metadata": {},
   "outputs": [],
   "source": [
    "ref_summaries = list(df_test['summary'])"
   ]
  },
  {
   "cell_type": "markdown",
   "id": "a797113c",
   "metadata": {},
   "source": [
    "Now we cerate 3 baselines by comparing the reference summaries with the first sentence, the first 2 sentences, and the first 3 sentences in the abstract"
   ]
  },
  {
   "cell_type": "code",
   "execution_count": 6,
   "id": "7ff0797a",
   "metadata": {},
   "outputs": [
    {
     "name": "stderr",
     "output_type": "stream",
     "text": [
      "None of PyTorch, TensorFlow >= 2.0, or Flax have been found. Models won't be available and only tokenizers, configuration and file/data utilities can be used.\n"
     ]
    },
    {
     "name": "stdout",
     "output_type": "stream",
     "text": [
      "First 1 senctences: Scores {'rouge1': 30.8, 'rouge2': 15.0, 'rougeL': 25.9, 'rougeLsum': 25.9}\n",
      "First 2 senctences: Scores {'rouge1': 23.6, 'rouge2': 11.1, 'rougeL': 19.0, 'rougeLsum': 19.0}\n",
      "First 3 senctences: Scores {'rouge1': 19.6, 'rouge2': 9.5, 'rougeL': 15.6, 'rougeLsum': 15.6}\n"
     ]
    }
   ],
   "source": [
    "import re\n",
    "for i in range (3):\n",
    "    candidate_summaries = list(df_test['text'].apply(lambda x: ' '.join(re.split(r'(?<=[.:;])\\s', x)[:i+1])))\n",
    "    print(f\"First {i+1} senctences: Scores {calc_rouge_scores(candidate_summaries, ref_summaries)}\")"
   ]
  }
 ],
 "metadata": {
  "interpreter": {
   "hash": "8cda68aaa5fd43d17f6dc70784179eeb7806947d5a4ee2bab41c5d1452795e8b"
  },
  "kernelspec": {
   "display_name": "conda_pytorch_latest_p37",
   "language": "python",
   "name": "python3"
  },
  "language_info": {
   "codemirror_mode": {
    "name": "ipython",
    "version": 3
   },
   "file_extension": ".py",
   "mimetype": "text/x-python",
   "name": "python",
   "nbconvert_exporter": "python",
   "pygments_lexer": "ipython3",
   "version": "3.9.11"
  }
 },
 "nbformat": 4,
 "nbformat_minor": 5
}
