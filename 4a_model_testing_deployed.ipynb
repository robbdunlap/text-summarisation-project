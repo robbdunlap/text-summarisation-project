{
 "cells": [
  {
   "cell_type": "markdown",
   "id": "d55f5dfe",
   "metadata": {},
   "source": [
    "# Part 4a - Model testing with model deployed\n",
    "\n",
    "In this notebook we will deploy the model that we have trained to a Sagemaker Endpoint. This allows us to have the model live and running and create summaries at any time. IT also allows us to access the model via http requests, if we wanted to."
   ]
  },
  {
   "cell_type": "markdown",
   "id": "0712eb40",
   "metadata": {},
   "source": [
    "First, we define some variables which we need for our Sagemaker setup"
   ]
  },
  {
   "cell_type": "code",
   "execution_count": 1,
   "id": "dd89904c",
   "metadata": {},
   "outputs": [
    {
     "name": "stdout",
     "output_type": "stream",
     "text": [
      "IAM role arn used for running training: arn:aws:iam::595714217589:role/service-role/AmazonSageMaker-ExecutionRole-20220331T161122\n",
      "S3 bucket used for storing artifacts: sagemaker-us-east-1-595714217589\n"
     ]
    }
   ],
   "source": [
    "import boto3\n",
    "import sagemaker\n",
    "\n",
    "sess = sagemaker.Session()\n",
    "# role = sagemaker.get_execution_role()\n",
    "role = 'arn:aws:iam::595714217589:role/service-role/AmazonSageMaker-ExecutionRole-20220331T161122'\n",
    "bucket = sess.default_bucket()\n",
    "client = boto3.client('sagemaker')\n",
    "\n",
    "print(f\"IAM role arn used for running training: {role}\")\n",
    "print(f\"S3 bucket used for storing artifacts: {sess.default_bucket()}\")"
   ]
  },
  {
   "cell_type": "markdown",
   "id": "dd8e59d5",
   "metadata": {},
   "source": [
    "This code below allows us to access the details of the last training job. In particular we are interested in the S3 loaction of the model."
   ]
  },
  {
   "cell_type": "code",
   "execution_count": 2,
   "id": "3b406a1e",
   "metadata": {},
   "outputs": [
    {
     "data": {
      "text/plain": [
       "'s3://sagemaker-us-east-1-595714217589/huggingface-pytorch-training-2022-04-06-00-28-08-102/output/model.tar.gz'"
      ]
     },
     "execution_count": 2,
     "metadata": {},
     "output_type": "execute_result"
    }
   ],
   "source": [
    "training_job = client.list_training_jobs()['TrainingJobSummaries'][0]['TrainingJobName']\n",
    "model_data = sess.describe_training_job(training_job)['ModelArtifacts']['S3ModelArtifacts']\n",
    "model_data"
   ]
  },
  {
   "cell_type": "markdown",
   "id": "15666829",
   "metadata": {},
   "source": [
    "Now we can deploy the model to the Sagemaker endpoint. Note that we use our own inference code for this example, as it allows us to finetune the summaries better."
   ]
  },
  {
   "cell_type": "code",
   "execution_count": 3,
   "id": "3e196312",
   "metadata": {},
   "outputs": [],
   "source": [
    "from sagemaker.huggingface import HuggingFaceModel\n",
    "\n",
    "model_for_deployment = HuggingFaceModel(entry_point='inference.py',\n",
    "                                        source_dir='inference_code',\n",
    "                                        model_data=model_data,\n",
    "                                        role=role,\n",
    "                                        pytorch_version='1.7.1',\n",
    "                                        py_version='py36',\n",
    "                                        transformers_version='4.6.1',\n",
    "                                        )"
   ]
  },
  {
   "cell_type": "code",
   "execution_count": 4,
   "id": "8dc3b70d",
   "metadata": {},
   "outputs": [
    {
     "ename": "ClientError",
     "evalue": "An error occurred (404) when calling the HeadObject operation: Not Found",
     "output_type": "error",
     "traceback": [
      "\u001b[0;31m---------------------------------------------------------------------------\u001b[0m",
      "\u001b[0;31mClientError\u001b[0m                               Traceback (most recent call last)",
      "\u001b[1;32m/Users/robbdunlap/My Drive/School/GMU/GMU AIT 726 Intro to NLP and Deep Learning 2022 Spring/Project/marshmel_sum_proj/text-summarisation-project/4a_model_testing_deployed.ipynb Cell 8'\u001b[0m in \u001b[0;36m<cell line: 1>\u001b[0;34m()\u001b[0m\n\u001b[0;32m----> <a href='vscode-notebook-cell:/Users/robbdunlap/My%20Drive/School/GMU/GMU%20AIT%20726%20Intro%20to%20NLP%20and%20Deep%20Learning%202022%20Spring/Project/marshmel_sum_proj/text-summarisation-project/4a_model_testing_deployed.ipynb#ch0000007?line=0'>1</a>\u001b[0m predictor \u001b[39m=\u001b[39m model_for_deployment\u001b[39m.\u001b[39;49mdeploy(initial_instance_count\u001b[39m=\u001b[39;49m\u001b[39m1\u001b[39;49m,\n\u001b[1;32m      <a href='vscode-notebook-cell:/Users/robbdunlap/My%20Drive/School/GMU/GMU%20AIT%20726%20Intro%20to%20NLP%20and%20Deep%20Learning%202022%20Spring/Project/marshmel_sum_proj/text-summarisation-project/4a_model_testing_deployed.ipynb#ch0000007?line=1'>2</a>\u001b[0m                                         instance_type\u001b[39m=\u001b[39;49m\u001b[39m'\u001b[39;49m\u001b[39mml.g4dn.xlarge\u001b[39;49m\u001b[39m'\u001b[39;49m,\n\u001b[1;32m      <a href='vscode-notebook-cell:/Users/robbdunlap/My%20Drive/School/GMU/GMU%20AIT%20726%20Intro%20to%20NLP%20and%20Deep%20Learning%202022%20Spring/Project/marshmel_sum_proj/text-summarisation-project/4a_model_testing_deployed.ipynb#ch0000007?line=2'>3</a>\u001b[0m                                         serializer\u001b[39m=\u001b[39;49msagemaker\u001b[39m.\u001b[39;49mserializers\u001b[39m.\u001b[39;49mJSONSerializer(),\n\u001b[1;32m      <a href='vscode-notebook-cell:/Users/robbdunlap/My%20Drive/School/GMU/GMU%20AIT%20726%20Intro%20to%20NLP%20and%20Deep%20Learning%202022%20Spring/Project/marshmel_sum_proj/text-summarisation-project/4a_model_testing_deployed.ipynb#ch0000007?line=3'>4</a>\u001b[0m                                         deserializer\u001b[39m=\u001b[39;49msagemaker\u001b[39m.\u001b[39;49mdeserializers\u001b[39m.\u001b[39;49mJSONDeserializer()\n\u001b[1;32m      <a href='vscode-notebook-cell:/Users/robbdunlap/My%20Drive/School/GMU/GMU%20AIT%20726%20Intro%20to%20NLP%20and%20Deep%20Learning%202022%20Spring/Project/marshmel_sum_proj/text-summarisation-project/4a_model_testing_deployed.ipynb#ch0000007?line=4'>5</a>\u001b[0m                                         )\n",
      "File \u001b[0;32m~/opt/anaconda3/envs/text_sum/lib/python3.9/site-packages/sagemaker/model.py:764\u001b[0m, in \u001b[0;36mModel.deploy\u001b[0;34m(self, initial_instance_count, instance_type, serializer, deserializer, accelerator_type, endpoint_name, tags, kms_key, wait, data_capture_config, **kwargs)\u001b[0m\n\u001b[1;32m    <a href='file:///Users/robbdunlap/opt/anaconda3/envs/text_sum/lib/python3.9/site-packages/sagemaker/model.py?line=760'>761</a>\u001b[0m     \u001b[39mif\u001b[39;00m \u001b[39mself\u001b[39m\u001b[39m.\u001b[39m_base_name \u001b[39mis\u001b[39;00m \u001b[39mnot\u001b[39;00m \u001b[39mNone\u001b[39;00m:\n\u001b[1;32m    <a href='file:///Users/robbdunlap/opt/anaconda3/envs/text_sum/lib/python3.9/site-packages/sagemaker/model.py?line=761'>762</a>\u001b[0m         \u001b[39mself\u001b[39m\u001b[39m.\u001b[39m_base_name \u001b[39m=\u001b[39m \u001b[39m\"\u001b[39m\u001b[39m-\u001b[39m\u001b[39m\"\u001b[39m\u001b[39m.\u001b[39mjoin((\u001b[39mself\u001b[39m\u001b[39m.\u001b[39m_base_name, compiled_model_suffix))\n\u001b[0;32m--> <a href='file:///Users/robbdunlap/opt/anaconda3/envs/text_sum/lib/python3.9/site-packages/sagemaker/model.py?line=763'>764</a>\u001b[0m \u001b[39mself\u001b[39;49m\u001b[39m.\u001b[39;49m_create_sagemaker_model(instance_type, accelerator_type, tags)\n\u001b[1;32m    <a href='file:///Users/robbdunlap/opt/anaconda3/envs/text_sum/lib/python3.9/site-packages/sagemaker/model.py?line=764'>765</a>\u001b[0m production_variant \u001b[39m=\u001b[39m sagemaker\u001b[39m.\u001b[39mproduction_variant(\n\u001b[1;32m    <a href='file:///Users/robbdunlap/opt/anaconda3/envs/text_sum/lib/python3.9/site-packages/sagemaker/model.py?line=765'>766</a>\u001b[0m     \u001b[39mself\u001b[39m\u001b[39m.\u001b[39mname, instance_type, initial_instance_count, accelerator_type\u001b[39m=\u001b[39maccelerator_type\n\u001b[1;32m    <a href='file:///Users/robbdunlap/opt/anaconda3/envs/text_sum/lib/python3.9/site-packages/sagemaker/model.py?line=766'>767</a>\u001b[0m )\n\u001b[1;32m    <a href='file:///Users/robbdunlap/opt/anaconda3/envs/text_sum/lib/python3.9/site-packages/sagemaker/model.py?line=767'>768</a>\u001b[0m \u001b[39mif\u001b[39;00m endpoint_name:\n",
      "File \u001b[0;32m~/opt/anaconda3/envs/text_sum/lib/python3.9/site-packages/sagemaker/model.py:266\u001b[0m, in \u001b[0;36mModel._create_sagemaker_model\u001b[0;34m(self, instance_type, accelerator_type, tags)\u001b[0m\n\u001b[1;32m    <a href='file:///Users/robbdunlap/opt/anaconda3/envs/text_sum/lib/python3.9/site-packages/sagemaker/model.py?line=248'>249</a>\u001b[0m \u001b[39mdef\u001b[39;00m \u001b[39m_create_sagemaker_model\u001b[39m(\u001b[39mself\u001b[39m, instance_type\u001b[39m=\u001b[39m\u001b[39mNone\u001b[39;00m, accelerator_type\u001b[39m=\u001b[39m\u001b[39mNone\u001b[39;00m, tags\u001b[39m=\u001b[39m\u001b[39mNone\u001b[39;00m):\n\u001b[1;32m    <a href='file:///Users/robbdunlap/opt/anaconda3/envs/text_sum/lib/python3.9/site-packages/sagemaker/model.py?line=249'>250</a>\u001b[0m     \u001b[39m\"\"\"Create a SageMaker Model Entity\u001b[39;00m\n\u001b[1;32m    <a href='file:///Users/robbdunlap/opt/anaconda3/envs/text_sum/lib/python3.9/site-packages/sagemaker/model.py?line=250'>251</a>\u001b[0m \n\u001b[1;32m    <a href='file:///Users/robbdunlap/opt/anaconda3/envs/text_sum/lib/python3.9/site-packages/sagemaker/model.py?line=251'>252</a>\u001b[0m \u001b[39m    Args:\u001b[39;00m\n\u001b[0;32m   (...)\u001b[0m\n\u001b[1;32m    <a href='file:///Users/robbdunlap/opt/anaconda3/envs/text_sum/lib/python3.9/site-packages/sagemaker/model.py?line=263'>264</a>\u001b[0m \u001b[39m            /api/latest/reference/services/sagemaker.html#SageMaker.Client.add_tags\u001b[39;00m\n\u001b[1;32m    <a href='file:///Users/robbdunlap/opt/anaconda3/envs/text_sum/lib/python3.9/site-packages/sagemaker/model.py?line=264'>265</a>\u001b[0m \u001b[39m    \"\"\"\u001b[39;00m\n\u001b[0;32m--> <a href='file:///Users/robbdunlap/opt/anaconda3/envs/text_sum/lib/python3.9/site-packages/sagemaker/model.py?line=265'>266</a>\u001b[0m     container_def \u001b[39m=\u001b[39m \u001b[39mself\u001b[39;49m\u001b[39m.\u001b[39;49mprepare_container_def(instance_type, accelerator_type\u001b[39m=\u001b[39;49maccelerator_type)\n\u001b[1;32m    <a href='file:///Users/robbdunlap/opt/anaconda3/envs/text_sum/lib/python3.9/site-packages/sagemaker/model.py?line=267'>268</a>\u001b[0m     \u001b[39mself\u001b[39m\u001b[39m.\u001b[39m_ensure_base_name_if_needed(container_def[\u001b[39m\"\u001b[39m\u001b[39mImage\u001b[39m\u001b[39m\"\u001b[39m])\n\u001b[1;32m    <a href='file:///Users/robbdunlap/opt/anaconda3/envs/text_sum/lib/python3.9/site-packages/sagemaker/model.py?line=268'>269</a>\u001b[0m     \u001b[39mself\u001b[39m\u001b[39m.\u001b[39m_set_model_name_if_needed()\n",
      "File \u001b[0;32m~/opt/anaconda3/envs/text_sum/lib/python3.9/site-packages/sagemaker/huggingface/model.py:271\u001b[0m, in \u001b[0;36mHuggingFaceModel.prepare_container_def\u001b[0;34m(self, instance_type, accelerator_type)\u001b[0m\n\u001b[1;32m    <a href='file:///Users/robbdunlap/opt/anaconda3/envs/text_sum/lib/python3.9/site-packages/sagemaker/huggingface/model.py?line=265'>266</a>\u001b[0m     deploy_image \u001b[39m=\u001b[39m \u001b[39mself\u001b[39m\u001b[39m.\u001b[39mserving_image_uri(\n\u001b[1;32m    <a href='file:///Users/robbdunlap/opt/anaconda3/envs/text_sum/lib/python3.9/site-packages/sagemaker/huggingface/model.py?line=266'>267</a>\u001b[0m         region_name, instance_type, accelerator_type\u001b[39m=\u001b[39maccelerator_type\n\u001b[1;32m    <a href='file:///Users/robbdunlap/opt/anaconda3/envs/text_sum/lib/python3.9/site-packages/sagemaker/huggingface/model.py?line=267'>268</a>\u001b[0m     )\n\u001b[1;32m    <a href='file:///Users/robbdunlap/opt/anaconda3/envs/text_sum/lib/python3.9/site-packages/sagemaker/huggingface/model.py?line=269'>270</a>\u001b[0m deploy_key_prefix \u001b[39m=\u001b[39m model_code_key_prefix(\u001b[39mself\u001b[39m\u001b[39m.\u001b[39mkey_prefix, \u001b[39mself\u001b[39m\u001b[39m.\u001b[39mname, deploy_image)\n\u001b[0;32m--> <a href='file:///Users/robbdunlap/opt/anaconda3/envs/text_sum/lib/python3.9/site-packages/sagemaker/huggingface/model.py?line=270'>271</a>\u001b[0m \u001b[39mself\u001b[39;49m\u001b[39m.\u001b[39;49m_upload_code(deploy_key_prefix, repack\u001b[39m=\u001b[39;49m\u001b[39mTrue\u001b[39;49;00m)\n\u001b[1;32m    <a href='file:///Users/robbdunlap/opt/anaconda3/envs/text_sum/lib/python3.9/site-packages/sagemaker/huggingface/model.py?line=271'>272</a>\u001b[0m deploy_env \u001b[39m=\u001b[39m \u001b[39mdict\u001b[39m(\u001b[39mself\u001b[39m\u001b[39m.\u001b[39menv)\n\u001b[1;32m    <a href='file:///Users/robbdunlap/opt/anaconda3/envs/text_sum/lib/python3.9/site-packages/sagemaker/huggingface/model.py?line=272'>273</a>\u001b[0m deploy_env\u001b[39m.\u001b[39mupdate(\u001b[39mself\u001b[39m\u001b[39m.\u001b[39m_framework_env_vars())\n",
      "File \u001b[0;32m~/opt/anaconda3/envs/text_sum/lib/python3.9/site-packages/sagemaker/model.py:1136\u001b[0m, in \u001b[0;36mFrameworkModel._upload_code\u001b[0;34m(self, key_prefix, repack)\u001b[0m\n\u001b[1;32m   <a href='file:///Users/robbdunlap/opt/anaconda3/envs/text_sum/lib/python3.9/site-packages/sagemaker/model.py?line=1132'>1133</a>\u001b[0m bucket \u001b[39m=\u001b[39m \u001b[39mself\u001b[39m\u001b[39m.\u001b[39mbucket \u001b[39mor\u001b[39;00m \u001b[39mself\u001b[39m\u001b[39m.\u001b[39msagemaker_session\u001b[39m.\u001b[39mdefault_bucket()\n\u001b[1;32m   <a href='file:///Users/robbdunlap/opt/anaconda3/envs/text_sum/lib/python3.9/site-packages/sagemaker/model.py?line=1133'>1134</a>\u001b[0m repacked_model_data \u001b[39m=\u001b[39m \u001b[39m\"\u001b[39m\u001b[39ms3://\u001b[39m\u001b[39m\"\u001b[39m \u001b[39m+\u001b[39m \u001b[39m\"\u001b[39m\u001b[39m/\u001b[39m\u001b[39m\"\u001b[39m\u001b[39m.\u001b[39mjoin([bucket, key_prefix, \u001b[39m\"\u001b[39m\u001b[39mmodel.tar.gz\u001b[39m\u001b[39m\"\u001b[39m])\n\u001b[0;32m-> <a href='file:///Users/robbdunlap/opt/anaconda3/envs/text_sum/lib/python3.9/site-packages/sagemaker/model.py?line=1135'>1136</a>\u001b[0m utils\u001b[39m.\u001b[39;49mrepack_model(\n\u001b[1;32m   <a href='file:///Users/robbdunlap/opt/anaconda3/envs/text_sum/lib/python3.9/site-packages/sagemaker/model.py?line=1136'>1137</a>\u001b[0m     inference_script\u001b[39m=\u001b[39;49m\u001b[39mself\u001b[39;49m\u001b[39m.\u001b[39;49mentry_point,\n\u001b[1;32m   <a href='file:///Users/robbdunlap/opt/anaconda3/envs/text_sum/lib/python3.9/site-packages/sagemaker/model.py?line=1137'>1138</a>\u001b[0m     source_directory\u001b[39m=\u001b[39;49m\u001b[39mself\u001b[39;49m\u001b[39m.\u001b[39;49msource_dir,\n\u001b[1;32m   <a href='file:///Users/robbdunlap/opt/anaconda3/envs/text_sum/lib/python3.9/site-packages/sagemaker/model.py?line=1138'>1139</a>\u001b[0m     dependencies\u001b[39m=\u001b[39;49m\u001b[39mself\u001b[39;49m\u001b[39m.\u001b[39;49mdependencies,\n\u001b[1;32m   <a href='file:///Users/robbdunlap/opt/anaconda3/envs/text_sum/lib/python3.9/site-packages/sagemaker/model.py?line=1139'>1140</a>\u001b[0m     model_uri\u001b[39m=\u001b[39;49m\u001b[39mself\u001b[39;49m\u001b[39m.\u001b[39;49mmodel_data,\n\u001b[1;32m   <a href='file:///Users/robbdunlap/opt/anaconda3/envs/text_sum/lib/python3.9/site-packages/sagemaker/model.py?line=1140'>1141</a>\u001b[0m     repacked_model_uri\u001b[39m=\u001b[39;49mrepacked_model_data,\n\u001b[1;32m   <a href='file:///Users/robbdunlap/opt/anaconda3/envs/text_sum/lib/python3.9/site-packages/sagemaker/model.py?line=1141'>1142</a>\u001b[0m     sagemaker_session\u001b[39m=\u001b[39;49m\u001b[39mself\u001b[39;49m\u001b[39m.\u001b[39;49msagemaker_session,\n\u001b[1;32m   <a href='file:///Users/robbdunlap/opt/anaconda3/envs/text_sum/lib/python3.9/site-packages/sagemaker/model.py?line=1142'>1143</a>\u001b[0m     kms_key\u001b[39m=\u001b[39;49m\u001b[39mself\u001b[39;49m\u001b[39m.\u001b[39;49mmodel_kms_key,\n\u001b[1;32m   <a href='file:///Users/robbdunlap/opt/anaconda3/envs/text_sum/lib/python3.9/site-packages/sagemaker/model.py?line=1143'>1144</a>\u001b[0m )\n\u001b[1;32m   <a href='file:///Users/robbdunlap/opt/anaconda3/envs/text_sum/lib/python3.9/site-packages/sagemaker/model.py?line=1145'>1146</a>\u001b[0m \u001b[39mself\u001b[39m\u001b[39m.\u001b[39mrepacked_model_data \u001b[39m=\u001b[39m repacked_model_data\n\u001b[1;32m   <a href='file:///Users/robbdunlap/opt/anaconda3/envs/text_sum/lib/python3.9/site-packages/sagemaker/model.py?line=1146'>1147</a>\u001b[0m \u001b[39mself\u001b[39m\u001b[39m.\u001b[39muploaded_code \u001b[39m=\u001b[39m fw_utils\u001b[39m.\u001b[39mUploadedCode(\n\u001b[1;32m   <a href='file:///Users/robbdunlap/opt/anaconda3/envs/text_sum/lib/python3.9/site-packages/sagemaker/model.py?line=1147'>1148</a>\u001b[0m     s3_prefix\u001b[39m=\u001b[39m\u001b[39mself\u001b[39m\u001b[39m.\u001b[39mrepacked_model_data, script_name\u001b[39m=\u001b[39mos\u001b[39m.\u001b[39mpath\u001b[39m.\u001b[39mbasename(\u001b[39mself\u001b[39m\u001b[39m.\u001b[39mentry_point)\n\u001b[1;32m   <a href='file:///Users/robbdunlap/opt/anaconda3/envs/text_sum/lib/python3.9/site-packages/sagemaker/model.py?line=1148'>1149</a>\u001b[0m )\n",
      "File \u001b[0;32m~/opt/anaconda3/envs/text_sum/lib/python3.9/site-packages/sagemaker/utils.py:412\u001b[0m, in \u001b[0;36mrepack_model\u001b[0;34m(inference_script, source_directory, dependencies, model_uri, repacked_model_uri, sagemaker_session, kms_key)\u001b[0m\n\u001b[1;32m    <a href='file:///Users/robbdunlap/opt/anaconda3/envs/text_sum/lib/python3.9/site-packages/sagemaker/utils.py?line=408'>409</a>\u001b[0m dependencies \u001b[39m=\u001b[39m dependencies \u001b[39mor\u001b[39;00m []\n\u001b[1;32m    <a href='file:///Users/robbdunlap/opt/anaconda3/envs/text_sum/lib/python3.9/site-packages/sagemaker/utils.py?line=410'>411</a>\u001b[0m \u001b[39mwith\u001b[39;00m _tmpdir() \u001b[39mas\u001b[39;00m tmp:\n\u001b[0;32m--> <a href='file:///Users/robbdunlap/opt/anaconda3/envs/text_sum/lib/python3.9/site-packages/sagemaker/utils.py?line=411'>412</a>\u001b[0m     model_dir \u001b[39m=\u001b[39m _extract_model(model_uri, sagemaker_session, tmp)\n\u001b[1;32m    <a href='file:///Users/robbdunlap/opt/anaconda3/envs/text_sum/lib/python3.9/site-packages/sagemaker/utils.py?line=413'>414</a>\u001b[0m     _create_or_update_code_dir(\n\u001b[1;32m    <a href='file:///Users/robbdunlap/opt/anaconda3/envs/text_sum/lib/python3.9/site-packages/sagemaker/utils.py?line=414'>415</a>\u001b[0m         model_dir, inference_script, source_directory, dependencies, sagemaker_session, tmp\n\u001b[1;32m    <a href='file:///Users/robbdunlap/opt/anaconda3/envs/text_sum/lib/python3.9/site-packages/sagemaker/utils.py?line=415'>416</a>\u001b[0m     )\n\u001b[1;32m    <a href='file:///Users/robbdunlap/opt/anaconda3/envs/text_sum/lib/python3.9/site-packages/sagemaker/utils.py?line=417'>418</a>\u001b[0m     tmp_model_path \u001b[39m=\u001b[39m os\u001b[39m.\u001b[39mpath\u001b[39m.\u001b[39mjoin(tmp, \u001b[39m\"\u001b[39m\u001b[39mtemp-model.tar.gz\u001b[39m\u001b[39m\"\u001b[39m)\n",
      "File \u001b[0;32m~/opt/anaconda3/envs/text_sum/lib/python3.9/site-packages/sagemaker/utils.py:486\u001b[0m, in \u001b[0;36m_extract_model\u001b[0;34m(model_uri, sagemaker_session, tmp)\u001b[0m\n\u001b[1;32m    <a href='file:///Users/robbdunlap/opt/anaconda3/envs/text_sum/lib/python3.9/site-packages/sagemaker/utils.py?line=483'>484</a>\u001b[0m \u001b[39mif\u001b[39;00m model_uri\u001b[39m.\u001b[39mlower()\u001b[39m.\u001b[39mstartswith(\u001b[39m\"\u001b[39m\u001b[39ms3://\u001b[39m\u001b[39m\"\u001b[39m):\n\u001b[1;32m    <a href='file:///Users/robbdunlap/opt/anaconda3/envs/text_sum/lib/python3.9/site-packages/sagemaker/utils.py?line=484'>485</a>\u001b[0m     local_model_path \u001b[39m=\u001b[39m os\u001b[39m.\u001b[39mpath\u001b[39m.\u001b[39mjoin(tmp, \u001b[39m\"\u001b[39m\u001b[39mtar_file\u001b[39m\u001b[39m\"\u001b[39m)\n\u001b[0;32m--> <a href='file:///Users/robbdunlap/opt/anaconda3/envs/text_sum/lib/python3.9/site-packages/sagemaker/utils.py?line=485'>486</a>\u001b[0m     download_file_from_url(model_uri, local_model_path, sagemaker_session)\n\u001b[1;32m    <a href='file:///Users/robbdunlap/opt/anaconda3/envs/text_sum/lib/python3.9/site-packages/sagemaker/utils.py?line=486'>487</a>\u001b[0m \u001b[39melse\u001b[39;00m:\n\u001b[1;32m    <a href='file:///Users/robbdunlap/opt/anaconda3/envs/text_sum/lib/python3.9/site-packages/sagemaker/utils.py?line=487'>488</a>\u001b[0m     local_model_path \u001b[39m=\u001b[39m model_uri\u001b[39m.\u001b[39mreplace(\u001b[39m\"\u001b[39m\u001b[39mfile://\u001b[39m\u001b[39m\"\u001b[39m, \u001b[39m\"\u001b[39m\u001b[39m\"\u001b[39m)\n",
      "File \u001b[0;32m~/opt/anaconda3/envs/text_sum/lib/python3.9/site-packages/sagemaker/utils.py:499\u001b[0m, in \u001b[0;36mdownload_file_from_url\u001b[0;34m(url, dst, sagemaker_session)\u001b[0m\n\u001b[1;32m    <a href='file:///Users/robbdunlap/opt/anaconda3/envs/text_sum/lib/python3.9/site-packages/sagemaker/utils.py?line=495'>496</a>\u001b[0m url \u001b[39m=\u001b[39m parse\u001b[39m.\u001b[39murlparse(url)\n\u001b[1;32m    <a href='file:///Users/robbdunlap/opt/anaconda3/envs/text_sum/lib/python3.9/site-packages/sagemaker/utils.py?line=496'>497</a>\u001b[0m bucket, key \u001b[39m=\u001b[39m url\u001b[39m.\u001b[39mnetloc, url\u001b[39m.\u001b[39mpath\u001b[39m.\u001b[39mlstrip(\u001b[39m\"\u001b[39m\u001b[39m/\u001b[39m\u001b[39m\"\u001b[39m)\n\u001b[0;32m--> <a href='file:///Users/robbdunlap/opt/anaconda3/envs/text_sum/lib/python3.9/site-packages/sagemaker/utils.py?line=498'>499</a>\u001b[0m download_file(bucket, key, dst, sagemaker_session)\n",
      "File \u001b[0;32m~/opt/anaconda3/envs/text_sum/lib/python3.9/site-packages/sagemaker/utils.py:517\u001b[0m, in \u001b[0;36mdownload_file\u001b[0;34m(bucket_name, path, target, sagemaker_session)\u001b[0m\n\u001b[1;32m    <a href='file:///Users/robbdunlap/opt/anaconda3/envs/text_sum/lib/python3.9/site-packages/sagemaker/utils.py?line=514'>515</a>\u001b[0m s3 \u001b[39m=\u001b[39m boto_session\u001b[39m.\u001b[39mresource(\u001b[39m\"\u001b[39m\u001b[39ms3\u001b[39m\u001b[39m\"\u001b[39m, region_name\u001b[39m=\u001b[39msagemaker_session\u001b[39m.\u001b[39mboto_region_name)\n\u001b[1;32m    <a href='file:///Users/robbdunlap/opt/anaconda3/envs/text_sum/lib/python3.9/site-packages/sagemaker/utils.py?line=515'>516</a>\u001b[0m bucket \u001b[39m=\u001b[39m s3\u001b[39m.\u001b[39mBucket(bucket_name)\n\u001b[0;32m--> <a href='file:///Users/robbdunlap/opt/anaconda3/envs/text_sum/lib/python3.9/site-packages/sagemaker/utils.py?line=516'>517</a>\u001b[0m bucket\u001b[39m.\u001b[39;49mdownload_file(path, target)\n",
      "File \u001b[0;32m~/opt/anaconda3/envs/text_sum/lib/python3.9/site-packages/boto3/s3/inject.py:244\u001b[0m, in \u001b[0;36mbucket_download_file\u001b[0;34m(self, Key, Filename, ExtraArgs, Callback, Config)\u001b[0m\n\u001b[1;32m    <a href='file:///Users/robbdunlap/opt/anaconda3/envs/text_sum/lib/python3.9/site-packages/boto3/s3/inject.py?line=211'>212</a>\u001b[0m \u001b[39mdef\u001b[39;00m \u001b[39mbucket_download_file\u001b[39m(\u001b[39mself\u001b[39m, Key, Filename,\n\u001b[1;32m    <a href='file:///Users/robbdunlap/opt/anaconda3/envs/text_sum/lib/python3.9/site-packages/boto3/s3/inject.py?line=212'>213</a>\u001b[0m                          ExtraArgs\u001b[39m=\u001b[39m\u001b[39mNone\u001b[39;00m, Callback\u001b[39m=\u001b[39m\u001b[39mNone\u001b[39;00m, Config\u001b[39m=\u001b[39m\u001b[39mNone\u001b[39;00m):\n\u001b[1;32m    <a href='file:///Users/robbdunlap/opt/anaconda3/envs/text_sum/lib/python3.9/site-packages/boto3/s3/inject.py?line=213'>214</a>\u001b[0m     \u001b[39m\"\"\"Download an S3 object to a file.\u001b[39;00m\n\u001b[1;32m    <a href='file:///Users/robbdunlap/opt/anaconda3/envs/text_sum/lib/python3.9/site-packages/boto3/s3/inject.py?line=214'>215</a>\u001b[0m \n\u001b[1;32m    <a href='file:///Users/robbdunlap/opt/anaconda3/envs/text_sum/lib/python3.9/site-packages/boto3/s3/inject.py?line=215'>216</a>\u001b[0m \u001b[39m    Usage::\u001b[39;00m\n\u001b[0;32m   (...)\u001b[0m\n\u001b[1;32m    <a href='file:///Users/robbdunlap/opt/anaconda3/envs/text_sum/lib/python3.9/site-packages/boto3/s3/inject.py?line=241'>242</a>\u001b[0m \u001b[39m        transfer.\u001b[39;00m\n\u001b[1;32m    <a href='file:///Users/robbdunlap/opt/anaconda3/envs/text_sum/lib/python3.9/site-packages/boto3/s3/inject.py?line=242'>243</a>\u001b[0m \u001b[39m    \"\"\"\u001b[39;00m\n\u001b[0;32m--> <a href='file:///Users/robbdunlap/opt/anaconda3/envs/text_sum/lib/python3.9/site-packages/boto3/s3/inject.py?line=243'>244</a>\u001b[0m     \u001b[39mreturn\u001b[39;00m \u001b[39mself\u001b[39;49m\u001b[39m.\u001b[39;49mmeta\u001b[39m.\u001b[39;49mclient\u001b[39m.\u001b[39;49mdownload_file(\n\u001b[1;32m    <a href='file:///Users/robbdunlap/opt/anaconda3/envs/text_sum/lib/python3.9/site-packages/boto3/s3/inject.py?line=244'>245</a>\u001b[0m         Bucket\u001b[39m=\u001b[39;49m\u001b[39mself\u001b[39;49m\u001b[39m.\u001b[39;49mname, Key\u001b[39m=\u001b[39;49mKey, Filename\u001b[39m=\u001b[39;49mFilename,\n\u001b[1;32m    <a href='file:///Users/robbdunlap/opt/anaconda3/envs/text_sum/lib/python3.9/site-packages/boto3/s3/inject.py?line=245'>246</a>\u001b[0m         ExtraArgs\u001b[39m=\u001b[39;49mExtraArgs, Callback\u001b[39m=\u001b[39;49mCallback, Config\u001b[39m=\u001b[39;49mConfig)\n",
      "File \u001b[0;32m~/opt/anaconda3/envs/text_sum/lib/python3.9/site-packages/boto3/s3/inject.py:170\u001b[0m, in \u001b[0;36mdownload_file\u001b[0;34m(self, Bucket, Key, Filename, ExtraArgs, Callback, Config)\u001b[0m\n\u001b[1;32m    <a href='file:///Users/robbdunlap/opt/anaconda3/envs/text_sum/lib/python3.9/site-packages/boto3/s3/inject.py?line=135'>136</a>\u001b[0m \u001b[39m\"\"\"Download an S3 object to a file.\u001b[39;00m\n\u001b[1;32m    <a href='file:///Users/robbdunlap/opt/anaconda3/envs/text_sum/lib/python3.9/site-packages/boto3/s3/inject.py?line=136'>137</a>\u001b[0m \n\u001b[1;32m    <a href='file:///Users/robbdunlap/opt/anaconda3/envs/text_sum/lib/python3.9/site-packages/boto3/s3/inject.py?line=137'>138</a>\u001b[0m \u001b[39mUsage::\u001b[39;00m\n\u001b[0;32m   (...)\u001b[0m\n\u001b[1;32m    <a href='file:///Users/robbdunlap/opt/anaconda3/envs/text_sum/lib/python3.9/site-packages/boto3/s3/inject.py?line=166'>167</a>\u001b[0m \u001b[39m    transfer.\u001b[39;00m\n\u001b[1;32m    <a href='file:///Users/robbdunlap/opt/anaconda3/envs/text_sum/lib/python3.9/site-packages/boto3/s3/inject.py?line=167'>168</a>\u001b[0m \u001b[39m\"\"\"\u001b[39;00m\n\u001b[1;32m    <a href='file:///Users/robbdunlap/opt/anaconda3/envs/text_sum/lib/python3.9/site-packages/boto3/s3/inject.py?line=168'>169</a>\u001b[0m \u001b[39mwith\u001b[39;00m S3Transfer(\u001b[39mself\u001b[39m, Config) \u001b[39mas\u001b[39;00m transfer:\n\u001b[0;32m--> <a href='file:///Users/robbdunlap/opt/anaconda3/envs/text_sum/lib/python3.9/site-packages/boto3/s3/inject.py?line=169'>170</a>\u001b[0m     \u001b[39mreturn\u001b[39;00m transfer\u001b[39m.\u001b[39;49mdownload_file(\n\u001b[1;32m    <a href='file:///Users/robbdunlap/opt/anaconda3/envs/text_sum/lib/python3.9/site-packages/boto3/s3/inject.py?line=170'>171</a>\u001b[0m         bucket\u001b[39m=\u001b[39;49mBucket, key\u001b[39m=\u001b[39;49mKey, filename\u001b[39m=\u001b[39;49mFilename,\n\u001b[1;32m    <a href='file:///Users/robbdunlap/opt/anaconda3/envs/text_sum/lib/python3.9/site-packages/boto3/s3/inject.py?line=171'>172</a>\u001b[0m         extra_args\u001b[39m=\u001b[39;49mExtraArgs, callback\u001b[39m=\u001b[39;49mCallback)\n",
      "File \u001b[0;32m~/opt/anaconda3/envs/text_sum/lib/python3.9/site-packages/boto3/s3/transfer.py:307\u001b[0m, in \u001b[0;36mS3Transfer.download_file\u001b[0;34m(self, bucket, key, filename, extra_args, callback)\u001b[0m\n\u001b[1;32m    <a href='file:///Users/robbdunlap/opt/anaconda3/envs/text_sum/lib/python3.9/site-packages/boto3/s3/transfer.py?line=303'>304</a>\u001b[0m future \u001b[39m=\u001b[39m \u001b[39mself\u001b[39m\u001b[39m.\u001b[39m_manager\u001b[39m.\u001b[39mdownload(\n\u001b[1;32m    <a href='file:///Users/robbdunlap/opt/anaconda3/envs/text_sum/lib/python3.9/site-packages/boto3/s3/transfer.py?line=304'>305</a>\u001b[0m     bucket, key, filename, extra_args, subscribers)\n\u001b[1;32m    <a href='file:///Users/robbdunlap/opt/anaconda3/envs/text_sum/lib/python3.9/site-packages/boto3/s3/transfer.py?line=305'>306</a>\u001b[0m \u001b[39mtry\u001b[39;00m:\n\u001b[0;32m--> <a href='file:///Users/robbdunlap/opt/anaconda3/envs/text_sum/lib/python3.9/site-packages/boto3/s3/transfer.py?line=306'>307</a>\u001b[0m     future\u001b[39m.\u001b[39;49mresult()\n\u001b[1;32m    <a href='file:///Users/robbdunlap/opt/anaconda3/envs/text_sum/lib/python3.9/site-packages/boto3/s3/transfer.py?line=307'>308</a>\u001b[0m \u001b[39m# This is for backwards compatibility where when retries are\u001b[39;00m\n\u001b[1;32m    <a href='file:///Users/robbdunlap/opt/anaconda3/envs/text_sum/lib/python3.9/site-packages/boto3/s3/transfer.py?line=308'>309</a>\u001b[0m \u001b[39m# exceeded we need to throw the same error from boto3 instead of\u001b[39;00m\n\u001b[1;32m    <a href='file:///Users/robbdunlap/opt/anaconda3/envs/text_sum/lib/python3.9/site-packages/boto3/s3/transfer.py?line=309'>310</a>\u001b[0m \u001b[39m# s3transfer's built in RetriesExceededError as current users are\u001b[39;00m\n\u001b[1;32m    <a href='file:///Users/robbdunlap/opt/anaconda3/envs/text_sum/lib/python3.9/site-packages/boto3/s3/transfer.py?line=310'>311</a>\u001b[0m \u001b[39m# catching the boto3 one instead of the s3transfer exception to do\u001b[39;00m\n\u001b[1;32m    <a href='file:///Users/robbdunlap/opt/anaconda3/envs/text_sum/lib/python3.9/site-packages/boto3/s3/transfer.py?line=311'>312</a>\u001b[0m \u001b[39m# their own retries.\u001b[39;00m\n\u001b[1;32m    <a href='file:///Users/robbdunlap/opt/anaconda3/envs/text_sum/lib/python3.9/site-packages/boto3/s3/transfer.py?line=312'>313</a>\u001b[0m \u001b[39mexcept\u001b[39;00m S3TransferRetriesExceededError \u001b[39mas\u001b[39;00m e:\n",
      "File \u001b[0;32m~/opt/anaconda3/envs/text_sum/lib/python3.9/site-packages/s3transfer/futures.py:106\u001b[0m, in \u001b[0;36mTransferFuture.result\u001b[0;34m(self)\u001b[0m\n\u001b[1;32m    <a href='file:///Users/robbdunlap/opt/anaconda3/envs/text_sum/lib/python3.9/site-packages/s3transfer/futures.py?line=100'>101</a>\u001b[0m \u001b[39mdef\u001b[39;00m \u001b[39mresult\u001b[39m(\u001b[39mself\u001b[39m):\n\u001b[1;32m    <a href='file:///Users/robbdunlap/opt/anaconda3/envs/text_sum/lib/python3.9/site-packages/s3transfer/futures.py?line=101'>102</a>\u001b[0m     \u001b[39mtry\u001b[39;00m:\n\u001b[1;32m    <a href='file:///Users/robbdunlap/opt/anaconda3/envs/text_sum/lib/python3.9/site-packages/s3transfer/futures.py?line=102'>103</a>\u001b[0m         \u001b[39m# Usually the result() method blocks until the transfer is done,\u001b[39;00m\n\u001b[1;32m    <a href='file:///Users/robbdunlap/opt/anaconda3/envs/text_sum/lib/python3.9/site-packages/s3transfer/futures.py?line=103'>104</a>\u001b[0m         \u001b[39m# however if a KeyboardInterrupt is raised we want want to exit\u001b[39;00m\n\u001b[1;32m    <a href='file:///Users/robbdunlap/opt/anaconda3/envs/text_sum/lib/python3.9/site-packages/s3transfer/futures.py?line=104'>105</a>\u001b[0m         \u001b[39m# out of this and propogate the exception.\u001b[39;00m\n\u001b[0;32m--> <a href='file:///Users/robbdunlap/opt/anaconda3/envs/text_sum/lib/python3.9/site-packages/s3transfer/futures.py?line=105'>106</a>\u001b[0m         \u001b[39mreturn\u001b[39;00m \u001b[39mself\u001b[39;49m\u001b[39m.\u001b[39;49m_coordinator\u001b[39m.\u001b[39;49mresult()\n\u001b[1;32m    <a href='file:///Users/robbdunlap/opt/anaconda3/envs/text_sum/lib/python3.9/site-packages/s3transfer/futures.py?line=106'>107</a>\u001b[0m     \u001b[39mexcept\u001b[39;00m \u001b[39mKeyboardInterrupt\u001b[39;00m \u001b[39mas\u001b[39;00m e:\n\u001b[1;32m    <a href='file:///Users/robbdunlap/opt/anaconda3/envs/text_sum/lib/python3.9/site-packages/s3transfer/futures.py?line=107'>108</a>\u001b[0m         \u001b[39mself\u001b[39m\u001b[39m.\u001b[39mcancel()\n",
      "File \u001b[0;32m~/opt/anaconda3/envs/text_sum/lib/python3.9/site-packages/s3transfer/futures.py:265\u001b[0m, in \u001b[0;36mTransferCoordinator.result\u001b[0;34m(self)\u001b[0m\n\u001b[1;32m    <a href='file:///Users/robbdunlap/opt/anaconda3/envs/text_sum/lib/python3.9/site-packages/s3transfer/futures.py?line=261'>262</a>\u001b[0m \u001b[39m# Once done waiting, raise an exception if present or return the\u001b[39;00m\n\u001b[1;32m    <a href='file:///Users/robbdunlap/opt/anaconda3/envs/text_sum/lib/python3.9/site-packages/s3transfer/futures.py?line=262'>263</a>\u001b[0m \u001b[39m# final result.\u001b[39;00m\n\u001b[1;32m    <a href='file:///Users/robbdunlap/opt/anaconda3/envs/text_sum/lib/python3.9/site-packages/s3transfer/futures.py?line=263'>264</a>\u001b[0m \u001b[39mif\u001b[39;00m \u001b[39mself\u001b[39m\u001b[39m.\u001b[39m_exception:\n\u001b[0;32m--> <a href='file:///Users/robbdunlap/opt/anaconda3/envs/text_sum/lib/python3.9/site-packages/s3transfer/futures.py?line=264'>265</a>\u001b[0m     \u001b[39mraise\u001b[39;00m \u001b[39mself\u001b[39m\u001b[39m.\u001b[39m_exception\n\u001b[1;32m    <a href='file:///Users/robbdunlap/opt/anaconda3/envs/text_sum/lib/python3.9/site-packages/s3transfer/futures.py?line=265'>266</a>\u001b[0m \u001b[39mreturn\u001b[39;00m \u001b[39mself\u001b[39m\u001b[39m.\u001b[39m_result\n",
      "File \u001b[0;32m~/opt/anaconda3/envs/text_sum/lib/python3.9/site-packages/s3transfer/tasks.py:255\u001b[0m, in \u001b[0;36mSubmissionTask._main\u001b[0;34m(self, transfer_future, **kwargs)\u001b[0m\n\u001b[1;32m    <a href='file:///Users/robbdunlap/opt/anaconda3/envs/text_sum/lib/python3.9/site-packages/s3transfer/tasks.py?line=250'>251</a>\u001b[0m     \u001b[39mself\u001b[39m\u001b[39m.\u001b[39m_transfer_coordinator\u001b[39m.\u001b[39mset_status_to_running()\n\u001b[1;32m    <a href='file:///Users/robbdunlap/opt/anaconda3/envs/text_sum/lib/python3.9/site-packages/s3transfer/tasks.py?line=252'>253</a>\u001b[0m     \u001b[39m# Call the submit method to start submitting tasks to execute the\u001b[39;00m\n\u001b[1;32m    <a href='file:///Users/robbdunlap/opt/anaconda3/envs/text_sum/lib/python3.9/site-packages/s3transfer/tasks.py?line=253'>254</a>\u001b[0m     \u001b[39m# transfer.\u001b[39;00m\n\u001b[0;32m--> <a href='file:///Users/robbdunlap/opt/anaconda3/envs/text_sum/lib/python3.9/site-packages/s3transfer/tasks.py?line=254'>255</a>\u001b[0m     \u001b[39mself\u001b[39;49m\u001b[39m.\u001b[39;49m_submit(transfer_future\u001b[39m=\u001b[39;49mtransfer_future, \u001b[39m*\u001b[39;49m\u001b[39m*\u001b[39;49mkwargs)\n\u001b[1;32m    <a href='file:///Users/robbdunlap/opt/anaconda3/envs/text_sum/lib/python3.9/site-packages/s3transfer/tasks.py?line=255'>256</a>\u001b[0m \u001b[39mexcept\u001b[39;00m \u001b[39mBaseException\u001b[39;00m \u001b[39mas\u001b[39;00m e:\n\u001b[1;32m    <a href='file:///Users/robbdunlap/opt/anaconda3/envs/text_sum/lib/python3.9/site-packages/s3transfer/tasks.py?line=256'>257</a>\u001b[0m     \u001b[39m# If there was an exception raised during the submission of task\u001b[39;00m\n\u001b[1;32m    <a href='file:///Users/robbdunlap/opt/anaconda3/envs/text_sum/lib/python3.9/site-packages/s3transfer/tasks.py?line=257'>258</a>\u001b[0m     \u001b[39m# there is a chance that the final task that signals if a transfer\u001b[39;00m\n\u001b[0;32m   (...)\u001b[0m\n\u001b[1;32m    <a href='file:///Users/robbdunlap/opt/anaconda3/envs/text_sum/lib/python3.9/site-packages/s3transfer/tasks.py?line=266'>267</a>\u001b[0m \n\u001b[1;32m    <a href='file:///Users/robbdunlap/opt/anaconda3/envs/text_sum/lib/python3.9/site-packages/s3transfer/tasks.py?line=267'>268</a>\u001b[0m     \u001b[39m# Set the exception, that caused the process to fail.\u001b[39;00m\n\u001b[1;32m    <a href='file:///Users/robbdunlap/opt/anaconda3/envs/text_sum/lib/python3.9/site-packages/s3transfer/tasks.py?line=268'>269</a>\u001b[0m     \u001b[39mself\u001b[39m\u001b[39m.\u001b[39m_log_and_set_exception(e)\n",
      "File \u001b[0;32m~/opt/anaconda3/envs/text_sum/lib/python3.9/site-packages/s3transfer/download.py:340\u001b[0m, in \u001b[0;36mDownloadSubmissionTask._submit\u001b[0;34m(self, client, config, osutil, request_executor, io_executor, transfer_future, bandwidth_limiter)\u001b[0m\n\u001b[1;32m    <a href='file:///Users/robbdunlap/opt/anaconda3/envs/text_sum/lib/python3.9/site-packages/s3transfer/download.py?line=310'>311</a>\u001b[0m \u001b[39m\"\"\"\u001b[39;00m\n\u001b[1;32m    <a href='file:///Users/robbdunlap/opt/anaconda3/envs/text_sum/lib/python3.9/site-packages/s3transfer/download.py?line=311'>312</a>\u001b[0m \u001b[39m:param client: The client associated with the transfer manager\u001b[39;00m\n\u001b[1;32m    <a href='file:///Users/robbdunlap/opt/anaconda3/envs/text_sum/lib/python3.9/site-packages/s3transfer/download.py?line=312'>313</a>\u001b[0m \n\u001b[0;32m   (...)\u001b[0m\n\u001b[1;32m    <a href='file:///Users/robbdunlap/opt/anaconda3/envs/text_sum/lib/python3.9/site-packages/s3transfer/download.py?line=334'>335</a>\u001b[0m \u001b[39m    downloading streams\u001b[39;00m\n\u001b[1;32m    <a href='file:///Users/robbdunlap/opt/anaconda3/envs/text_sum/lib/python3.9/site-packages/s3transfer/download.py?line=335'>336</a>\u001b[0m \u001b[39m\"\"\"\u001b[39;00m\n\u001b[1;32m    <a href='file:///Users/robbdunlap/opt/anaconda3/envs/text_sum/lib/python3.9/site-packages/s3transfer/download.py?line=336'>337</a>\u001b[0m \u001b[39mif\u001b[39;00m transfer_future\u001b[39m.\u001b[39mmeta\u001b[39m.\u001b[39msize \u001b[39mis\u001b[39;00m \u001b[39mNone\u001b[39;00m:\n\u001b[1;32m    <a href='file:///Users/robbdunlap/opt/anaconda3/envs/text_sum/lib/python3.9/site-packages/s3transfer/download.py?line=337'>338</a>\u001b[0m     \u001b[39m# If a size was not provided figure out the size for the\u001b[39;00m\n\u001b[1;32m    <a href='file:///Users/robbdunlap/opt/anaconda3/envs/text_sum/lib/python3.9/site-packages/s3transfer/download.py?line=338'>339</a>\u001b[0m     \u001b[39m# user.\u001b[39;00m\n\u001b[0;32m--> <a href='file:///Users/robbdunlap/opt/anaconda3/envs/text_sum/lib/python3.9/site-packages/s3transfer/download.py?line=339'>340</a>\u001b[0m     response \u001b[39m=\u001b[39m client\u001b[39m.\u001b[39;49mhead_object(\n\u001b[1;32m    <a href='file:///Users/robbdunlap/opt/anaconda3/envs/text_sum/lib/python3.9/site-packages/s3transfer/download.py?line=340'>341</a>\u001b[0m         Bucket\u001b[39m=\u001b[39;49mtransfer_future\u001b[39m.\u001b[39;49mmeta\u001b[39m.\u001b[39;49mcall_args\u001b[39m.\u001b[39;49mbucket,\n\u001b[1;32m    <a href='file:///Users/robbdunlap/opt/anaconda3/envs/text_sum/lib/python3.9/site-packages/s3transfer/download.py?line=341'>342</a>\u001b[0m         Key\u001b[39m=\u001b[39;49mtransfer_future\u001b[39m.\u001b[39;49mmeta\u001b[39m.\u001b[39;49mcall_args\u001b[39m.\u001b[39;49mkey,\n\u001b[1;32m    <a href='file:///Users/robbdunlap/opt/anaconda3/envs/text_sum/lib/python3.9/site-packages/s3transfer/download.py?line=342'>343</a>\u001b[0m         \u001b[39m*\u001b[39;49m\u001b[39m*\u001b[39;49mtransfer_future\u001b[39m.\u001b[39;49mmeta\u001b[39m.\u001b[39;49mcall_args\u001b[39m.\u001b[39;49mextra_args\n\u001b[1;32m    <a href='file:///Users/robbdunlap/opt/anaconda3/envs/text_sum/lib/python3.9/site-packages/s3transfer/download.py?line=343'>344</a>\u001b[0m     )\n\u001b[1;32m    <a href='file:///Users/robbdunlap/opt/anaconda3/envs/text_sum/lib/python3.9/site-packages/s3transfer/download.py?line=344'>345</a>\u001b[0m     transfer_future\u001b[39m.\u001b[39mmeta\u001b[39m.\u001b[39mprovide_transfer_size(\n\u001b[1;32m    <a href='file:///Users/robbdunlap/opt/anaconda3/envs/text_sum/lib/python3.9/site-packages/s3transfer/download.py?line=345'>346</a>\u001b[0m         response[\u001b[39m'\u001b[39m\u001b[39mContentLength\u001b[39m\u001b[39m'\u001b[39m])\n\u001b[1;32m    <a href='file:///Users/robbdunlap/opt/anaconda3/envs/text_sum/lib/python3.9/site-packages/s3transfer/download.py?line=347'>348</a>\u001b[0m download_output_manager \u001b[39m=\u001b[39m \u001b[39mself\u001b[39m\u001b[39m.\u001b[39m_get_download_output_manager_cls(\n\u001b[1;32m    <a href='file:///Users/robbdunlap/opt/anaconda3/envs/text_sum/lib/python3.9/site-packages/s3transfer/download.py?line=348'>349</a>\u001b[0m     transfer_future, osutil)(osutil, \u001b[39mself\u001b[39m\u001b[39m.\u001b[39m_transfer_coordinator,\n\u001b[1;32m    <a href='file:///Users/robbdunlap/opt/anaconda3/envs/text_sum/lib/python3.9/site-packages/s3transfer/download.py?line=349'>350</a>\u001b[0m                              io_executor)\n",
      "File \u001b[0;32m~/opt/anaconda3/envs/text_sum/lib/python3.9/site-packages/botocore/client.py:357\u001b[0m, in \u001b[0;36mClientCreator._create_api_method.<locals>._api_call\u001b[0;34m(self, *args, **kwargs)\u001b[0m\n\u001b[1;32m    <a href='file:///Users/robbdunlap/opt/anaconda3/envs/text_sum/lib/python3.9/site-packages/botocore/client.py?line=353'>354</a>\u001b[0m     \u001b[39mraise\u001b[39;00m \u001b[39mTypeError\u001b[39;00m(\n\u001b[1;32m    <a href='file:///Users/robbdunlap/opt/anaconda3/envs/text_sum/lib/python3.9/site-packages/botocore/client.py?line=354'>355</a>\u001b[0m         \u001b[39m\"\u001b[39m\u001b[39m%s\u001b[39;00m\u001b[39m() only accepts keyword arguments.\u001b[39m\u001b[39m\"\u001b[39m \u001b[39m%\u001b[39m py_operation_name)\n\u001b[1;32m    <a href='file:///Users/robbdunlap/opt/anaconda3/envs/text_sum/lib/python3.9/site-packages/botocore/client.py?line=355'>356</a>\u001b[0m \u001b[39m# The \"self\" in this scope is referring to the BaseClient.\u001b[39;00m\n\u001b[0;32m--> <a href='file:///Users/robbdunlap/opt/anaconda3/envs/text_sum/lib/python3.9/site-packages/botocore/client.py?line=356'>357</a>\u001b[0m \u001b[39mreturn\u001b[39;00m \u001b[39mself\u001b[39;49m\u001b[39m.\u001b[39;49m_make_api_call(operation_name, kwargs)\n",
      "File \u001b[0;32m~/opt/anaconda3/envs/text_sum/lib/python3.9/site-packages/botocore/client.py:676\u001b[0m, in \u001b[0;36mBaseClient._make_api_call\u001b[0;34m(self, operation_name, api_params)\u001b[0m\n\u001b[1;32m    <a href='file:///Users/robbdunlap/opt/anaconda3/envs/text_sum/lib/python3.9/site-packages/botocore/client.py?line=673'>674</a>\u001b[0m     error_code \u001b[39m=\u001b[39m parsed_response\u001b[39m.\u001b[39mget(\u001b[39m\"\u001b[39m\u001b[39mError\u001b[39m\u001b[39m\"\u001b[39m, {})\u001b[39m.\u001b[39mget(\u001b[39m\"\u001b[39m\u001b[39mCode\u001b[39m\u001b[39m\"\u001b[39m)\n\u001b[1;32m    <a href='file:///Users/robbdunlap/opt/anaconda3/envs/text_sum/lib/python3.9/site-packages/botocore/client.py?line=674'>675</a>\u001b[0m     error_class \u001b[39m=\u001b[39m \u001b[39mself\u001b[39m\u001b[39m.\u001b[39mexceptions\u001b[39m.\u001b[39mfrom_code(error_code)\n\u001b[0;32m--> <a href='file:///Users/robbdunlap/opt/anaconda3/envs/text_sum/lib/python3.9/site-packages/botocore/client.py?line=675'>676</a>\u001b[0m     \u001b[39mraise\u001b[39;00m error_class(parsed_response, operation_name)\n\u001b[1;32m    <a href='file:///Users/robbdunlap/opt/anaconda3/envs/text_sum/lib/python3.9/site-packages/botocore/client.py?line=676'>677</a>\u001b[0m \u001b[39melse\u001b[39;00m:\n\u001b[1;32m    <a href='file:///Users/robbdunlap/opt/anaconda3/envs/text_sum/lib/python3.9/site-packages/botocore/client.py?line=677'>678</a>\u001b[0m     \u001b[39mreturn\u001b[39;00m parsed_response\n",
      "\u001b[0;31mClientError\u001b[0m: An error occurred (404) when calling the HeadObject operation: Not Found"
     ]
    }
   ],
   "source": [
    "predictor = model_for_deployment.deploy(initial_instance_count=1,\n",
    "                                        instance_type='ml.g4dn.xlarge',\n",
    "                                        serializer=sagemaker.serializers.JSONSerializer(),\n",
    "                                        deserializer=sagemaker.deserializers.JSONDeserializer()\n",
    "                                        )"
   ]
  },
  {
   "cell_type": "markdown",
   "id": "7e1ed8d5",
   "metadata": {},
   "source": [
    "Now it's time to test the model"
   ]
  },
  {
   "cell_type": "code",
   "execution_count": null,
   "id": "b9d3e50b",
   "metadata": {},
   "outputs": [],
   "source": [
    "import pandas as pd\n",
    "df_test = pd.read_csv('data/test.csv')\n",
    "ref_summaries = list(df_test['summary'])\n",
    "texts = list(df_test['text'])"
   ]
  },
  {
   "cell_type": "code",
   "execution_count": null,
   "id": "f5a03fef",
   "metadata": {},
   "outputs": [],
   "source": [
    "data = {\"inputs\":texts[0], \"parameters_list\":[{\"min_length\": 5, \"max_length\": 20}]}\n",
    "predictor.predict(data)"
   ]
  },
  {
   "cell_type": "code",
   "execution_count": null,
   "id": "6a5e77b3",
   "metadata": {},
   "outputs": [],
   "source": [
    "ref_summaries[0]"
   ]
  },
  {
   "cell_type": "code",
   "execution_count": null,
   "id": "8f3ee9bb",
   "metadata": {},
   "outputs": [],
   "source": [
    "candidate_summaries = []\n",
    "\n",
    "for i, text in enumerate(texts):\n",
    "    if i % 100 == 0:\n",
    "        print(i)\n",
    "    data = {\"inputs\":text, \"parameters_list\":[{\"min_length\": 5, \"max_length\": 20}]}\n",
    "    candidate = predictor.predict(data)\n",
    "    candidate_summaries.append(candidate[0][0])"
   ]
  },
  {
   "cell_type": "code",
   "execution_count": null,
   "id": "5681aaf9",
   "metadata": {},
   "outputs": [],
   "source": [
    "file = open(\"summaries/model-summaries.txt\", \"w\")\n",
    "for s in candidate_summaries:\n",
    "    file.write(s + \"\\n\")\n",
    "file.close()"
   ]
  },
  {
   "cell_type": "code",
   "execution_count": null,
   "id": "268f4723",
   "metadata": {},
   "outputs": [],
   "source": [
    "from datasets import load_metric\n",
    "metric = load_metric(\"rouge\")"
   ]
  },
  {
   "cell_type": "code",
   "execution_count": null,
   "id": "a837312c",
   "metadata": {},
   "outputs": [],
   "source": [
    "def calc_rouge_scores(candidates, references):\n",
    "    result = metric.compute(predictions=candidates, references=references, use_stemmer=True)\n",
    "    result = {key: round(value.mid.fmeasure * 100, 1) for key, value in result.items()}\n",
    "    return result"
   ]
  },
  {
   "cell_type": "code",
   "execution_count": null,
   "id": "3da89900",
   "metadata": {},
   "outputs": [],
   "source": [
    "calc_rouge_scores(candidate_summaries, ref_summaries)"
   ]
  },
  {
   "cell_type": "markdown",
   "id": "8e225d2a",
   "metadata": {},
   "source": [
    "As mentioned above, we can also fine-tune the summaries better using certain parameters. You can learn more about it in this blog post: https://huggingface.co/blog/how-to-generate. Let's try it out:"
   ]
  },
  {
   "cell_type": "code",
   "execution_count": null,
   "id": "c3ae6b65",
   "metadata": {},
   "outputs": [],
   "source": [
    "candidate_summaries_refined = []\n",
    "\n",
    "for i, text in enumerate(texts):\n",
    "    if i % 100 == 0:\n",
    "        print(i)\n",
    "    data = {\"inputs\":text, \"parameters_list\":[{\"min_length\": 5, \"max_length\": 20, \"num_beams\": 50, \"top_p\": 0.9, \"do_sample\": True}]}\n",
    "    candidate = predictor.predict(data)\n",
    "    candidate_summaries_refined.append(candidate[0][0])"
   ]
  },
  {
   "cell_type": "code",
   "execution_count": null,
   "id": "b703936c",
   "metadata": {},
   "outputs": [],
   "source": [
    "file = open(\"summaries/model-summaries_refined.txt\", \"w\")\n",
    "for s in candidate_summaries_refined:\n",
    "    file.write(s + \"\\n\")\n",
    "file.close()"
   ]
  },
  {
   "cell_type": "code",
   "execution_count": null,
   "id": "58db8e6b",
   "metadata": {},
   "outputs": [],
   "source": [
    "calc_rouge_scores(candidate_summaries_refined, ref_summaries)"
   ]
  }
 ],
 "metadata": {
  "interpreter": {
   "hash": "8cda68aaa5fd43d17f6dc70784179eeb7806947d5a4ee2bab41c5d1452795e8b"
  },
  "kernelspec": {
   "display_name": "conda_pytorch_latest_p37",
   "language": "python",
   "name": "python3"
  },
  "language_info": {
   "codemirror_mode": {
    "name": "ipython",
    "version": 3
   },
   "file_extension": ".py",
   "mimetype": "text/x-python",
   "name": "python",
   "nbconvert_exporter": "python",
   "pygments_lexer": "ipython3",
   "version": "3.9.11"
  }
 },
 "nbformat": 4,
 "nbformat_minor": 5
}
