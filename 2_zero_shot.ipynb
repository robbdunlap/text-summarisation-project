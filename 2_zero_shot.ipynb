{
 "cells": [
  {
   "cell_type": "markdown",
   "id": "c9b10ed5",
   "metadata": {},
   "source": [
    "# Part 2 - Zero-shot summaries\n",
    "\n",
    "In this part we will use Hugging Face's high-level Pipeline API to create summaries with a pre-trained model. There are three main steps involved when you pass some text to a pipeline:\n",
    "\n",
    "1) The text is preprocessed into a format the model can understand.\n",
    "\n",
    "2) The preprocessed inputs are passed to the model.\n",
    "\n",
    "3) The predictions of the model are post-processed, so you can make sense of them."
   ]
  },
  {
   "cell_type": "code",
   "execution_count": 2,
   "id": "b15df7cc",
   "metadata": {},
   "outputs": [
    {
     "name": "stderr",
     "output_type": "stream",
     "text": [
      "No model was supplied, defaulted to sshleifer/distilbart-cnn-12-6 (https://huggingface.co/sshleifer/distilbart-cnn-12-6)\n"
     ]
    },
    {
     "data": {
      "application/vnd.jupyter.widget-view+json": {
       "model_id": "344cdb619b114a83a1465445ff42bb29",
       "version_major": 2,
       "version_minor": 0
      },
      "text/plain": [
       "Downloading:   0%|          | 0.00/1.76k [00:00<?, ?B/s]"
      ]
     },
     "metadata": {},
     "output_type": "display_data"
    },
    {
     "data": {
      "application/vnd.jupyter.widget-view+json": {
       "model_id": "41d099d32748400a8e491f2d5cedfe4d",
       "version_major": 2,
       "version_minor": 0
      },
      "text/plain": [
       "Downloading:   0%|          | 0.00/1.14G [00:00<?, ?B/s]"
      ]
     },
     "metadata": {},
     "output_type": "display_data"
    },
    {
     "data": {
      "application/vnd.jupyter.widget-view+json": {
       "model_id": "d8c1e82842f14f7bb2f51304a7f44dc2",
       "version_major": 2,
       "version_minor": 0
      },
      "text/plain": [
       "Downloading:   0%|          | 0.00/26.0 [00:00<?, ?B/s]"
      ]
     },
     "metadata": {},
     "output_type": "display_data"
    },
    {
     "data": {
      "application/vnd.jupyter.widget-view+json": {
       "model_id": "00a1e9ebe0b6479aa5e6335235c5ba83",
       "version_major": 2,
       "version_minor": 0
      },
      "text/plain": [
       "Downloading:   0%|          | 0.00/878k [00:00<?, ?B/s]"
      ]
     },
     "metadata": {},
     "output_type": "display_data"
    },
    {
     "data": {
      "application/vnd.jupyter.widget-view+json": {
       "model_id": "3b839728605a44f1a9ac26399443cd98",
       "version_major": 2,
       "version_minor": 0
      },
      "text/plain": [
       "Downloading:   0%|          | 0.00/446k [00:00<?, ?B/s]"
      ]
     },
     "metadata": {},
     "output_type": "display_data"
    }
   ],
   "source": [
    "from transformers import pipeline\n",
    "summarizer = pipeline(\"summarization\")"
   ]
  },
  {
   "cell_type": "markdown",
   "id": "a83d1ef7",
   "metadata": {},
   "source": [
    "This line of code allows us to see which model is being used by default. We can also find this information in the source code for pipelines:https://github.com/huggingface/transformers/blob/master/src/transformers/pipelines/__init__.py"
   ]
  },
  {
   "cell_type": "code",
   "execution_count": 3,
   "id": "23c9993c",
   "metadata": {},
   "outputs": [
    {
     "data": {
      "text/plain": [
       "'sshleifer/distilbart-cnn-12-6'"
      ]
     },
     "execution_count": 3,
     "metadata": {},
     "output_type": "execute_result"
    }
   ],
   "source": [
    "summarizer.model.config.__getattribute__('_name_or_path')"
   ]
  },
  {
   "cell_type": "markdown",
   "id": "22c21726",
   "metadata": {},
   "source": [
    "The model for the standard summarisation task is https://huggingface.co/sshleifer/distilbart-cnn-12-6, which has been specifically trained on 2 datasets: https://huggingface.co/datasets/cnn_dailymail and https://huggingface.co/datasets/xsum. We will keep using this model, but if we wanted to use a different model we could easily do this by specifing it like below. All the models that are trained for summarisation can be viewed here: https://huggingface.co/models?pipeline_tag=summarization&sort=downloads"
   ]
  },
  {
   "cell_type": "code",
   "execution_count": 4,
   "id": "7e68038a",
   "metadata": {},
   "outputs": [],
   "source": [
    "# summarizer = pipeline(\"summarization\", model='facebook/bart-large-cnn')"
   ]
  },
  {
   "cell_type": "code",
   "execution_count": 5,
   "id": "0a40b298",
   "metadata": {},
   "outputs": [],
   "source": [
    "import pandas as pd\n",
    "df_test = pd.read_csv('data/test.csv')\n",
    "ref_summaries = list(df_test['summary'])\n",
    "texts = list(df_test['text'])"
   ]
  },
  {
   "cell_type": "markdown",
   "id": "dc122d7e",
   "metadata": {},
   "source": [
    "Testing the pipeline with an abstract from the test dataset"
   ]
  },
  {
   "cell_type": "code",
   "execution_count": 6,
   "id": "3b18f9db",
   "metadata": {},
   "outputs": [
    {
     "data": {
      "text/plain": [
       "'  The coincidence of the set of all nilpotent elements of a ring with its prime radical has a module analogue which occurs when the zero submodule satisfies the radical formula. A ring $R$ is 2-primal if the set of all nilpotent elements of $R$ coincides with its prime radical. This fact motivates our study in this paper, namely, to compare 2-primal submodules and submodules that satisfy the radical formula. A demonstration of the importance of 2-primal modules in bridging the gap between modules over commutative rings and modules over noncommutative rings is done and new examples of rings and modules that satisfy the radical formula are also given. '"
      ]
     },
     "execution_count": 6,
     "metadata": {},
     "output_type": "execute_result"
    }
   ],
   "source": [
    "texts[0]"
   ]
  },
  {
   "cell_type": "code",
   "execution_count": 7,
   "id": "758aabb3",
   "metadata": {},
   "outputs": [
    {
     "name": "stderr",
     "output_type": "stream",
     "text": [
      "Your min_length=56 must be inferior than your max_length=20.\n"
     ]
    },
    {
     "data": {
      "text/plain": [
       "[{'summary_text': ' A ring $R$ is 2-primal if the set of all nilpot'}]"
      ]
     },
     "execution_count": 7,
     "metadata": {},
     "output_type": "execute_result"
    }
   ],
   "source": [
    "summarizer(texts[0], max_length=20)"
   ]
  },
  {
   "cell_type": "markdown",
   "id": "c1e4ba28",
   "metadata": {},
   "source": [
    "Running the pipeline over all 2,000 examples. Because this will take a while we print a counter to keep track of the progress. This should take around 50 minutes."
   ]
  },
  {
   "cell_type": "code",
   "execution_count": 8,
   "id": "187429e7",
   "metadata": {},
   "outputs": [
    {
     "name": "stdout",
     "output_type": "stream",
     "text": [
      "0\n",
      "100\n",
      "200\n",
      "300\n",
      "400\n",
      "500\n",
      "600\n",
      "700\n",
      "800\n",
      "900\n",
      "1000\n",
      "1100\n",
      "1200\n",
      "1300\n",
      "1400\n",
      "1500\n",
      "1600\n",
      "1700\n",
      "1800\n",
      "1900\n"
     ]
    }
   ],
   "source": [
    "candidate_summaries = []\n",
    "\n",
    "for i, text in enumerate(texts):\n",
    "    if i % 100 == 0:\n",
    "        print(i)\n",
    "    candidate = summarizer(text, min_length=5, max_length=20)\n",
    "    candidate_summaries.append(candidate[0]['summary_text'])"
   ]
  },
  {
   "cell_type": "markdown",
   "id": "7c569312",
   "metadata": {},
   "source": [
    "Saving the candidate summaries in case we want to investigate further."
   ]
  },
  {
   "cell_type": "code",
   "execution_count": 9,
   "id": "e607d234",
   "metadata": {},
   "outputs": [],
   "source": [
    "# make sure the \"summaries\" directory is present\n",
    "import os\n",
    "path = \"./summaries/\"\n",
    "if not os.path.exists(path):\n",
    "    os.makedirs(path)\n",
    "\n",
    "file = open(\"summaries/zero-shot-summaries.txt\", \"w\")\n",
    "for s in candidate_summaries:\n",
    "    file.write(s + \"\\n\")\n",
    "file.close()"
   ]
  },
  {
   "cell_type": "code",
   "execution_count": 10,
   "id": "d4613a38",
   "metadata": {},
   "outputs": [
    {
     "data": {
      "text/plain": [
       "[' A ring $R$ is 2-primal if the set of all nilpot',\n",
       " ' The $k$ nearest neighbor ($k$NN) query is a fundamental problem in',\n",
       " ' For a real number $x$ and set of natural numbers $A$ define $',\n",
       " ' A wide class of smooth r-fold quadric bundles over projective n-space',\n",
       " ' Plasmonic nanoparticles influence the absorption and emission processes of nearby emitters .']"
      ]
     },
     "execution_count": 10,
     "metadata": {},
     "output_type": "execute_result"
    }
   ],
   "source": [
    "candidate_summaries[:5]"
   ]
  },
  {
   "cell_type": "markdown",
   "id": "ea2f8780",
   "metadata": {},
   "source": [
    "Calculating the ROUGE scores"
   ]
  },
  {
   "cell_type": "code",
   "execution_count": 22,
   "id": "3e5cfa75-1312-4f0c-a871-d4015003cfeb",
   "metadata": {},
   "outputs": [
    {
     "name": "stdout",
     "output_type": "stream",
     "text": [
      "Collecting rouge_score\n",
      "  Downloading rouge_score-0.0.4-py2.py3-none-any.whl (22 kB)\n",
      "Requirement already satisfied: six>=1.14.0 in c:\\users\\robbd\\anaconda3\\envs\\text_sum\\lib\\site-packages (from rouge_score) (1.16.0)\n",
      "Requirement already satisfied: nltk in c:\\users\\robbd\\anaconda3\\envs\\text_sum\\lib\\site-packages (from rouge_score) (3.6.7)\n",
      "Requirement already satisfied: absl-py in c:\\users\\robbd\\anaconda3\\envs\\text_sum\\lib\\site-packages (from rouge_score) (1.0.0)\n",
      "Requirement already satisfied: numpy in c:\\users\\robbd\\anaconda3\\envs\\text_sum\\lib\\site-packages (from rouge_score) (1.21.5)\n",
      "Requirement already satisfied: click in c:\\users\\robbd\\anaconda3\\envs\\text_sum\\lib\\site-packages (from nltk->rouge_score) (8.1.2)\n",
      "Requirement already satisfied: regex>=2021.8.3 in c:\\users\\robbd\\anaconda3\\envs\\text_sum\\lib\\site-packages (from nltk->rouge_score) (2022.3.15)\n",
      "Requirement already satisfied: tqdm in c:\\users\\robbd\\anaconda3\\envs\\text_sum\\lib\\site-packages (from nltk->rouge_score) (4.63.1)\n",
      "Requirement already satisfied: joblib in c:\\users\\robbd\\anaconda3\\envs\\text_sum\\lib\\site-packages (from nltk->rouge_score) (1.1.0)\n",
      "Requirement already satisfied: colorama in c:\\users\\robbd\\anaconda3\\envs\\text_sum\\lib\\site-packages (from click->nltk->rouge_score) (0.4.4)\n",
      "Installing collected packages: rouge_score\n",
      "Successfully installed rouge_score-0.0.4\n"
     ]
    }
   ],
   "source": [
    "# this wasn't necessary when running on my mac but I had to install both \n",
    "# on my PC even though I installed Huggingface's \"datasets\" module\n",
    "\n",
    "# I installed absl-py using Anaconda. I had to install rouge_score using pip\n",
    "\n",
    "#! pip install rouge_score"
   ]
  },
  {
   "cell_type": "code",
   "execution_count": 19,
   "id": "6bc76680-642a-4e25-a152-7ebbba0a3354",
   "metadata": {},
   "outputs": [],
   "source": [
    "from datasets import load_metric\n",
    "metric = load_metric(\"rouge\")"
   ]
  },
  {
   "cell_type": "code",
   "execution_count": 24,
   "id": "1f849be6",
   "metadata": {},
   "outputs": [],
   "source": [
    "def calc_rouge_scores(candidates, references):\n",
    "    result = metric.compute(predictions=candidates, references=references, use_stemmer=True)\n",
    "    result = {key: round(value.mid.fmeasure * 100, 1) for key, value in result.items()}\n",
    "    return result"
   ]
  },
  {
   "cell_type": "code",
   "execution_count": 25,
   "id": "7bd7585d",
   "metadata": {},
   "outputs": [
    {
     "data": {
      "text/plain": [
       "{'rouge1': 29.5, 'rouge2': 13.8, 'rougeL': 25.6, 'rougeLsum': 25.6}"
      ]
     },
     "execution_count": 25,
     "metadata": {},
     "output_type": "execute_result"
    }
   ],
   "source": [
    "calc_rouge_scores(candidate_summaries, ref_summaries)"
   ]
  }
 ],
 "metadata": {
  "interpreter": {
   "hash": "8cda68aaa5fd43d17f6dc70784179eeb7806947d5a4ee2bab41c5d1452795e8b"
  },
  "kernelspec": {
   "display_name": "Python 3 (ipykernel)",
   "language": "python",
   "name": "python3"
  },
  "language_info": {
   "codemirror_mode": {
    "name": "ipython",
    "version": 3
   },
   "file_extension": ".py",
   "mimetype": "text/x-python",
   "name": "python",
   "nbconvert_exporter": "python",
   "pygments_lexer": "ipython3",
   "version": "3.9.12"
  }
 },
 "nbformat": 4,
 "nbformat_minor": 5
}
